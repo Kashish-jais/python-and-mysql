{
  "nbformat": 4,
  "nbformat_minor": 0,
  "metadata": {
    "colab": {
      "provenance": []
    },
    "kernelspec": {
      "name": "python3",
      "display_name": "Python 3"
    },
    "language_info": {
      "name": "python"
    }
  },
  "cells": [
    {
      "cell_type": "code",
      "source": [
        "import pandas as pd\n",
        "\n",
        "# Load the dataset\n",
        "Iris = pd.read_csv('Iris.csv')\n",
        "\n",
        "# Display the first few rows and basic information about the dataset\n",
        "print(Iris.head())\n",
        "print(Iris.info())\n"
      ],
      "metadata": {
        "colab": {
          "base_uri": "https://localhost:8080/"
        },
        "id": "Wk-6JHFlOMnN",
        "outputId": "3c6c95d3-54f6-4ed8-bf62-f05488bc142a"
      },
      "execution_count": null,
      "outputs": [
        {
          "output_type": "stream",
          "name": "stdout",
          "text": [
            "   Id  SepalLengthCm  SepalWidthCm  PetalLengthCm  PetalWidthCm      Species\n",
            "0   1            5.1           3.5            1.4           0.2  Iris-setosa\n",
            "1   2            4.9           3.0            1.4           0.2  Iris-setosa\n",
            "2   3            4.7           3.2            1.3           0.2  Iris-setosa\n",
            "3   4            4.6           3.1            1.5           0.2  Iris-setosa\n",
            "4   5            5.0           3.6            1.4           0.2  Iris-setosa\n",
            "<class 'pandas.core.frame.DataFrame'>\n",
            "RangeIndex: 150 entries, 0 to 149\n",
            "Data columns (total 6 columns):\n",
            " #   Column         Non-Null Count  Dtype  \n",
            "---  ------         --------------  -----  \n",
            " 0   Id             150 non-null    int64  \n",
            " 1   SepalLengthCm  150 non-null    float64\n",
            " 2   SepalWidthCm   150 non-null    float64\n",
            " 3   PetalLengthCm  150 non-null    float64\n",
            " 4   PetalWidthCm   150 non-null    float64\n",
            " 5   Species        150 non-null    object \n",
            "dtypes: float64(4), int64(1), object(1)\n",
            "memory usage: 7.2+ KB\n",
            "None\n"
          ]
        }
      ]
    },
    {
      "cell_type": "code",
      "source": [
        "# Check for missing values\n",
        "print(\"Missing values before handling:\", Iris.isnull().sum())\n"
      ],
      "metadata": {
        "colab": {
          "base_uri": "https://localhost:8080/"
        },
        "id": "zTkdLelsOgNG",
        "outputId": "eb1f6655-c8da-4839-87b9-35f208bb83c4"
      },
      "execution_count": null,
      "outputs": [
        {
          "output_type": "stream",
          "name": "stdout",
          "text": [
            "Missing values before handling: Id               0\n",
            "SepalLengthCm    0\n",
            "SepalWidthCm     0\n",
            "PetalLengthCm    0\n",
            "PetalWidthCm     0\n",
            "Species          0\n",
            "dtype: int64\n"
          ]
        }
      ]
    },
    {
      "cell_type": "code",
      "source": [
        "# Function to remove outliers using IQR method\n",
        "\n",
        "def remove_outliers(df, columns):\n",
        "  Q1 = df[columns].quantile(0.25)\n",
        "  Q3 = df[columns].quantile(0.75)\n",
        "  IQR = Q3 - Q1\n",
        "  lower_bound = Q1 - 1.5 * IQR\n",
        "  upper_bound = Q3 + 1.5 * IQR\n",
        "  return df[~((df[columns] < lower_bound) | (df[columns] > upper_bound)).any(axis=1)]\n",
        "\n",
        "# Specify numerical columns where you want to detect outliers\n",
        "numerical_columns = ['SepalLengthCm', 'SepalWidthCm', 'PetalLengthCm', 'PetalWidthCm']\n",
        "Iris_no_outliers = remove_outliers(Iris, numerical_columns)\n",
        "\n",
        "# Check the shape before and after removing outliers\n",
        "print(\"Shape before removing outliers:\", Iris.shape)\n",
        "print(\"Shape after removing outliers:\", Iris_no_outliers.shape)\n"
      ],
      "metadata": {
        "colab": {
          "base_uri": "https://localhost:8080/"
        },
        "id": "i1UVUcwWOonW",
        "outputId": "d06f23cf-133d-4e74-c352-52f4755fe77e"
      },
      "execution_count": null,
      "outputs": [
        {
          "output_type": "stream",
          "name": "stdout",
          "text": [
            "Shape before removing outliers: (150, 6)\n",
            "Shape after removing outliers: (146, 6)\n"
          ]
        }
      ]
    },
    {
      "cell_type": "code",
      "source": [
        "# No categorical variables to encode in the Iris dataset, as all are numerical\n",
        "# No need for categorical encoding\n",
        "\n",
        "# Separate features (X) and target (y)\n",
        "X = Iris.drop('Species', axis=1)  # Features\n",
        "y = Iris['Species']  # Target\n",
        "\n",
        "# Check the data types of X and y\n",
        "print(X.dtypes)\n",
        "print(y.dtypes)\n"
      ],
      "metadata": {
        "colab": {
          "base_uri": "https://localhost:8080/"
        },
        "id": "EAz-vpw1PyvI",
        "outputId": "906ce8dc-b7fb-475d-99b1-423064987c37"
      },
      "execution_count": null,
      "outputs": [
        {
          "output_type": "stream",
          "name": "stdout",
          "text": [
            "Id                 int64\n",
            "SepalLengthCm    float64\n",
            "SepalWidthCm     float64\n",
            "PetalLengthCm    float64\n",
            "PetalWidthCm     float64\n",
            "dtype: object\n",
            "object\n"
          ]
        }
      ]
    },
    {
      "cell_type": "code",
      "source": [
        "from collections import Counter\n",
        "\n",
        "# Check class distribution of target variable\n",
        "print(\"Class distribution before handling imbalance:\", Counter(y))\n",
        "\n",
        "# No significant imbalance in the Iris dataset, so no handling is required\n"
      ],
      "metadata": {
        "colab": {
          "base_uri": "https://localhost:8080/"
        },
        "id": "g8gWHJP6QAgN",
        "outputId": "74bf6f94-ac46-4cec-d1fb-510c9659881c"
      },
      "execution_count": null,
      "outputs": [
        {
          "output_type": "stream",
          "name": "stdout",
          "text": [
            "Class distribution before handling imbalance: Counter({'Iris-setosa': 50, 'Iris-versicolor': 50, 'Iris-virginica': 50})\n"
          ]
        }
      ]
    },
    {
      "cell_type": "code",
      "source": [
        "from sklearn.ensemble import RandomForestClassifier\n",
        "from sklearn.feature_selection import SelectFromModel\n",
        "\n",
        "# Use RandomForestClassifier for feature selection\n",
        "clf = RandomForestClassifier(random_state=42)\n",
        "selector = SelectFromModel(clf)\n",
        "selector.fit(X, y)\n",
        "\n",
        "# Get selected feature indices and names\n",
        "selected_features_idx = selector.get_support(indices=True)\n",
        "selected_features = X.columns[selected_features_idx]\n",
        "\n",
        "# Subset X with selected features\n",
        "X_selected = X[selected_features]\n",
        "\n",
        "# Check the selected features\n",
        "print(\"Selected features:\", selected_features)\n"
      ],
      "metadata": {
        "colab": {
          "base_uri": "https://localhost:8080/"
        },
        "id": "JCRQLGFIQMfV",
        "outputId": "d8539d75-8715-43f8-a3e7-c255b9743152"
      },
      "execution_count": null,
      "outputs": [
        {
          "output_type": "stream",
          "name": "stdout",
          "text": [
            "Selected features: Index(['Id', 'PetalLengthCm', 'PetalWidthCm'], dtype='object')\n"
          ]
        }
      ]
    },
    {
      "cell_type": "code",
      "source": [
        "from sklearn.decomposition import PCA\n",
        "\n",
        "# Perform PCA for dimensionality reduction\n",
        "pca = PCA(n_components=2)  # Reduce to 2 principal components\n",
        "X_pca = pca.fit_transform(X_selected)\n",
        "\n",
        "# Check the shape after PCA\n",
        "print(\"Shape after PCA:\", X_pca.shape)\n"
      ],
      "metadata": {
        "colab": {
          "base_uri": "https://localhost:8080/"
        },
        "id": "y0wvPr_hQU2l",
        "outputId": "9ed57b58-e4d0-44f0-85ae-8d8955d687fd"
      },
      "execution_count": null,
      "outputs": [
        {
          "output_type": "stream",
          "name": "stdout",
          "text": [
            "Shape after PCA: (150, 2)\n"
          ]
        }
      ]
    }
  ]
}