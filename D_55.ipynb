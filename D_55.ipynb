{
  "nbformat": 4,
  "nbformat_minor": 0,
  "metadata": {
    "colab": {
      "provenance": []
    },
    "kernelspec": {
      "name": "python3",
      "display_name": "Python 3"
    },
    "language_info": {
      "name": "python"
    }
  },
  "cells": [
    {
      "cell_type": "code",
      "execution_count": null,
      "metadata": {
        "colab": {
          "base_uri": "https://localhost:8080/"
        },
        "id": "vTa7rC0MH-n_",
        "outputId": "f3595fbc-4540-48be-ae14-d439064b94c4"
      },
      "outputs": [
        {
          "output_type": "stream",
          "name": "stdout",
          "text": [
            "   Country   Age   Salary Purchased\n",
            "0   France  44.0  72000.0        No\n",
            "1    Spain  27.0  48000.0       Yes\n",
            "2  Germany  30.0  54000.0        No\n",
            "3    Spain  38.0  61000.0        No\n",
            "4  Germany  40.0      NaN       Yes\n",
            "5   France  35.0  58000.0       Yes\n",
            "6    Spain   NaN  52000.0        No\n",
            "7   France  48.0  79000.0       Yes\n",
            "8  Germany  50.0  83000.0        No\n",
            "9   France  37.0  67000.0       Yes\n"
          ]
        }
      ],
      "source": [
        "#Step 1 Load the Data\n",
        "import pandas as pd\n",
        "df = pd.read_csv('Data.csv')\n",
        "print(df)\n"
      ]
    },
    {
      "cell_type": "code",
      "source": [
        "#Step 2: Handle Missing Values\n",
        "# Check for missing values\n",
        "print(df.isnull().sum())\n",
        "import numpy as np\n",
        "\n",
        "# Fill missing Age with mean age\n",
        "df['Age'].fillna(df['Age'].mean(), inplace=True)\n",
        "\n",
        "# Fill missing Salary with median salary\n",
        "df['Salary'].fillna(df['Salary'].median(), inplace=True)\n",
        "\n",
        "print(df)\n"
      ],
      "metadata": {
        "colab": {
          "base_uri": "https://localhost:8080/"
        },
        "id": "0szQ7n3RJuiu",
        "outputId": "64077454-dbb5-4d08-da1f-2bd394161957"
      },
      "execution_count": null,
      "outputs": [
        {
          "output_type": "stream",
          "name": "stdout",
          "text": [
            "Country      0\n",
            "Age          1\n",
            "Salary       1\n",
            "Purchased    0\n",
            "dtype: int64\n",
            "   Country        Age   Salary Purchased\n",
            "0   France  44.000000  72000.0        No\n",
            "1    Spain  27.000000  48000.0       Yes\n",
            "2  Germany  30.000000  54000.0        No\n",
            "3    Spain  38.000000  61000.0        No\n",
            "4  Germany  40.000000  61000.0       Yes\n",
            "5   France  35.000000  58000.0       Yes\n",
            "6    Spain  38.777778  52000.0        No\n",
            "7   France  48.000000  79000.0       Yes\n",
            "8  Germany  50.000000  83000.0        No\n",
            "9   France  37.000000  67000.0       Yes\n"
          ]
        }
      ]
    },
    {
      "cell_type": "code",
      "source": [
        "#Step 3: Convert Data Types\n",
        "#Ensure that Age and Salary columns are of numeric type.\n",
        "# Convert Age and Salary to numeric types if they are not already\n",
        "df['Age'] = pd.to_numeric(df['Age'])\n",
        "df['Salary'] = pd.to_numeric(df['Salary'])\n",
        "\n",
        "print(df.dtypes)"
      ],
      "metadata": {
        "colab": {
          "base_uri": "https://localhost:8080/"
        },
        "id": "O0uJ2rA7J-4R",
        "outputId": "f2fc42d7-5992-4198-8c68-08c79a7fc8e0"
      },
      "execution_count": null,
      "outputs": [
        {
          "output_type": "stream",
          "name": "stdout",
          "text": [
            "Country       object\n",
            "Age          float64\n",
            "Salary       float64\n",
            "Purchased     object\n",
            "dtype: object\n"
          ]
        }
      ]
    },
    {
      "cell_type": "code",
      "source": [
        "#Step 4: Normalize/Scale Numerical Values\n",
        "#Normalize the Age and Salary columns using Min-Max scaling.\n",
        "from sklearn.preprocessing import MinMaxScaler\n",
        "\n",
        "scaler = MinMaxScaler()\n",
        "\n",
        "# Normalize Age and Salary\n",
        "df[['Age', 'Salary']] = scaler.fit_transform(df[['Age', 'Salary']])\n",
        "\n",
        "print(df)"
      ],
      "metadata": {
        "colab": {
          "base_uri": "https://localhost:8080/"
        },
        "id": "d234EB7AKHVg",
        "outputId": "ee227d26-235b-4dae-cc9d-3a47b9a545d1"
      },
      "execution_count": null,
      "outputs": [
        {
          "output_type": "stream",
          "name": "stdout",
          "text": [
            "   Country       Age    Salary Purchased\n",
            "0   France  0.739130  0.685714        No\n",
            "1    Spain  0.000000  0.000000       Yes\n",
            "2  Germany  0.130435  0.171429        No\n",
            "3    Spain  0.478261  0.371429        No\n",
            "4  Germany  0.565217  0.371429       Yes\n",
            "5   France  0.347826  0.285714       Yes\n",
            "6    Spain  0.512077  0.114286        No\n",
            "7   France  0.913043  0.885714       Yes\n",
            "8  Germany  1.000000  1.000000        No\n",
            "9   France  0.434783  0.542857       Yes\n"
          ]
        }
      ]
    }
  ]
}